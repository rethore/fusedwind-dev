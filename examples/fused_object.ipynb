{
 "cells": [
  {
   "cell_type": "code",
   "execution_count": 1,
   "metadata": {
    "collapsed": false
   },
   "outputs": [],
   "source": [
    "%reload_ext fusedwind"
   ]
  },
  {
   "cell_type": "code",
   "execution_count": 2,
   "metadata": {
    "collapsed": false
   },
   "outputs": [],
   "source": [
    "from openmdao.api import Component\n",
    "import json\n",
    "from fusedwind.core.FUSEDobj import FUSEDobj, flatten\n",
    "import numpy as np"
   ]
  },
  {
   "cell_type": "code",
   "execution_count": 3,
   "metadata": {
    "collapsed": false
   },
   "outputs": [],
   "source": [
    "windio_obj = {\n",
    "    'layout': [\n",
    "        {\n",
    "            'name': 'wt1',\n",
    "            'hub_height': 80.,\n",
    "            'rotor_diameter': 80.,\n",
    "            'position': {'x':6400, 'y':23232},\n",
    "            'power': 2000.,\n",
    "            'array': [1,2,3,4],\n",
    "            'c_t_curve': np.array([np.arange(4,25), np.arange(4,25)**3.0])\n",
    "        },\n",
    "        {\n",
    "            'name': 'wt2',\n",
    "            'hub_height': 70.,\n",
    "            'rotor_diameter': 80.,\n",
    "            'position': {'x':6400, 'y':23332,\"another\":{'layer':12}},\n",
    "            'power': 2000.,\n",
    "            'array': [1,2,3,4],\n",
    "            'c_t_curve': np.array([np.arange(4,25), np.arange(4,25)**3.0])\n",
    "\n",
    "        },            \n",
    "    ]\n",
    "}"
   ]
  },
  {
   "cell_type": "code",
   "execution_count": 4,
   "metadata": {
    "collapsed": false,
    "scrolled": false
   },
   "outputs": [
    {
     "data": {
      "text/plain": [
       "{'layout:wt1:array': [1, 2, 3, 4],\n",
       " 'layout:wt1:c_t_curve': array([[  4.00000000e+00,   5.00000000e+00,   6.00000000e+00,\n",
       "           7.00000000e+00,   8.00000000e+00,   9.00000000e+00,\n",
       "           1.00000000e+01,   1.10000000e+01,   1.20000000e+01,\n",
       "           1.30000000e+01,   1.40000000e+01,   1.50000000e+01,\n",
       "           1.60000000e+01,   1.70000000e+01,   1.80000000e+01,\n",
       "           1.90000000e+01,   2.00000000e+01,   2.10000000e+01,\n",
       "           2.20000000e+01,   2.30000000e+01,   2.40000000e+01],\n",
       "        [  6.40000000e+01,   1.25000000e+02,   2.16000000e+02,\n",
       "           3.43000000e+02,   5.12000000e+02,   7.29000000e+02,\n",
       "           1.00000000e+03,   1.33100000e+03,   1.72800000e+03,\n",
       "           2.19700000e+03,   2.74400000e+03,   3.37500000e+03,\n",
       "           4.09600000e+03,   4.91300000e+03,   5.83200000e+03,\n",
       "           6.85900000e+03,   8.00000000e+03,   9.26100000e+03,\n",
       "           1.06480000e+04,   1.21670000e+04,   1.38240000e+04]]),\n",
       " 'layout:wt1:hub_height': 80.0,\n",
       " 'layout:wt1:name': 'wt1',\n",
       " 'layout:wt1:position:x': 6400,\n",
       " 'layout:wt1:position:y': 23232,\n",
       " 'layout:wt1:power': 2000.0,\n",
       " 'layout:wt1:rotor_diameter': 80.0,\n",
       " 'layout:wt2:array': [1, 2, 3, 4],\n",
       " 'layout:wt2:c_t_curve': array([[  4.00000000e+00,   5.00000000e+00,   6.00000000e+00,\n",
       "           7.00000000e+00,   8.00000000e+00,   9.00000000e+00,\n",
       "           1.00000000e+01,   1.10000000e+01,   1.20000000e+01,\n",
       "           1.30000000e+01,   1.40000000e+01,   1.50000000e+01,\n",
       "           1.60000000e+01,   1.70000000e+01,   1.80000000e+01,\n",
       "           1.90000000e+01,   2.00000000e+01,   2.10000000e+01,\n",
       "           2.20000000e+01,   2.30000000e+01,   2.40000000e+01],\n",
       "        [  6.40000000e+01,   1.25000000e+02,   2.16000000e+02,\n",
       "           3.43000000e+02,   5.12000000e+02,   7.29000000e+02,\n",
       "           1.00000000e+03,   1.33100000e+03,   1.72800000e+03,\n",
       "           2.19700000e+03,   2.74400000e+03,   3.37500000e+03,\n",
       "           4.09600000e+03,   4.91300000e+03,   5.83200000e+03,\n",
       "           6.85900000e+03,   8.00000000e+03,   9.26100000e+03,\n",
       "           1.06480000e+04,   1.21670000e+04,   1.38240000e+04]]),\n",
       " 'layout:wt2:hub_height': 70.0,\n",
       " 'layout:wt2:name': 'wt2',\n",
       " 'layout:wt2:position:another:layer': 12,\n",
       " 'layout:wt2:position:x': 6400,\n",
       " 'layout:wt2:position:y': 23332,\n",
       " 'layout:wt2:power': 2000.0,\n",
       " 'layout:wt2:rotor_diameter': 80.0}"
      ]
     },
     "execution_count": 4,
     "metadata": {},
     "output_type": "execute_result"
    }
   ],
   "source": [
    "flatten(windio_obj)"
   ]
  },
  {
   "cell_type": "code",
   "execution_count": 5,
   "metadata": {
    "collapsed": false,
    "scrolled": true
   },
   "outputs": [],
   "source": [
    "wf = FUSEDobj(windio_obj)"
   ]
  },
  {
   "cell_type": "markdown",
   "metadata": {},
   "source": [
    "Return the values of a FUSEDobj"
   ]
  },
  {
   "cell_type": "code",
   "execution_count": 6,
   "metadata": {
    "collapsed": false,
    "scrolled": true
   },
   "outputs": [
    {
     "data": {
      "text/plain": [
       "[[[  4.00000000e+00   5.00000000e+00   6.00000000e+00   7.00000000e+00\n",
       "     8.00000000e+00   9.00000000e+00   1.00000000e+01   1.10000000e+01\n",
       "     1.20000000e+01   1.30000000e+01   1.40000000e+01   1.50000000e+01\n",
       "     1.60000000e+01   1.70000000e+01   1.80000000e+01   1.90000000e+01\n",
       "     2.00000000e+01   2.10000000e+01   2.20000000e+01   2.30000000e+01\n",
       "     2.40000000e+01]\n",
       "  [  6.40000000e+01   1.25000000e+02   2.16000000e+02   3.43000000e+02\n",
       "     5.12000000e+02   7.29000000e+02   1.00000000e+03   1.33100000e+03\n",
       "     1.72800000e+03   2.19700000e+03   2.74400000e+03   3.37500000e+03\n",
       "     4.09600000e+03   4.91300000e+03   5.83200000e+03   6.85900000e+03\n",
       "     8.00000000e+03   9.26100000e+03   1.06480000e+04   1.21670000e+04\n",
       "     1.38240000e+04]], 80.0, {\n",
       "   \"y\": 23232,\n",
       "   \"x\": 6400\n",
       " }, [1, 2, 3, 4], 80.0, 2000.0, wt1]"
      ]
     },
     "execution_count": 6,
     "metadata": {},
     "output_type": "execute_result"
    }
   ],
   "source": [
    "list(wf.layout.wt1.values())"
   ]
  },
  {
   "cell_type": "markdown",
   "metadata": {},
   "source": [
    "Return all the keys of a FUSEDobj"
   ]
  },
  {
   "cell_type": "code",
   "execution_count": 7,
   "metadata": {
    "collapsed": false
   },
   "outputs": [
    {
     "data": {
      "text/plain": [
       "['c_t_curve',\n",
       " 'hub_height',\n",
       " 'position',\n",
       " 'array',\n",
       " 'rotor_diameter',\n",
       " 'power',\n",
       " 'name']"
      ]
     },
     "execution_count": 7,
     "metadata": {},
     "output_type": "execute_result"
    }
   ],
   "source": [
    "list(wf.layout.wt1.keys())"
   ]
  },
  {
   "cell_type": "markdown",
   "metadata": {},
   "source": [
    "The representation of the object is still the nested dictionary, but it's for your eyes only "
   ]
  },
  {
   "cell_type": "code",
   "execution_count": 8,
   "metadata": {
    "collapsed": false
   },
   "outputs": [
    {
     "data": {
      "text/plain": [
       "{\n",
       "  \"c_t_curve\": [\n",
       "    [\n",
       "      4.0,\n",
       "      5.0,\n",
       "      6.0,\n",
       "      7.0,\n",
       "      8.0,\n",
       "      9.0,\n",
       "      10.0,\n",
       "      11.0,\n",
       "      12.0,\n",
       "      13.0,\n",
       "      14.0,\n",
       "      15.0,\n",
       "      16.0,\n",
       "      17.0,\n",
       "      18.0,\n",
       "      19.0,\n",
       "      20.0,\n",
       "      21.0,\n",
       "      22.0,\n",
       "      23.0,\n",
       "      24.0\n",
       "    ],\n",
       "    [\n",
       "      64.0,\n",
       "      125.0,\n",
       "      216.0,\n",
       "      343.0,\n",
       "      512.0,\n",
       "      729.0,\n",
       "      1000.0,\n",
       "      1331.0,\n",
       "      1728.0,\n",
       "      2197.0,\n",
       "      2744.0,\n",
       "      3375.0,\n",
       "      4096.0,\n",
       "      4913.0,\n",
       "      5832.0,\n",
       "      6859.0,\n",
       "      8000.0,\n",
       "      9261.0,\n",
       "      10648.0,\n",
       "      12167.0,\n",
       "      13824.0\n",
       "    ]\n",
       "  ],\n",
       "  \"hub_height\": 70.0,\n",
       "  \"position\": {\n",
       "    \"y\": 23332,\n",
       "    \"another\": {\n",
       "      \"layer\": 12\n",
       "    },\n",
       "    \"x\": 6400\n",
       "  },\n",
       "  \"array\": [\n",
       "    1,\n",
       "    2,\n",
       "    3,\n",
       "    4\n",
       "  ],\n",
       "  \"power\": 2000.0,\n",
       "  \"rotor_diameter\": 80.0,\n",
       "  \"name\": \"wt2\"\n",
       "}"
      ]
     },
     "execution_count": 8,
     "metadata": {},
     "output_type": "execute_result"
    }
   ],
   "source": [
    "wf.layout.wt2"
   ]
  },
  {
   "cell_type": "code",
   "execution_count": 9,
   "metadata": {
    "collapsed": false
   },
   "outputs": [
    {
     "data": {
      "text/plain": [
       "'ndarray'"
      ]
     },
     "execution_count": 9,
     "metadata": {},
     "output_type": "execute_result"
    }
   ],
   "source": [
    "wf.layout.wt2.c_t_curve._type"
   ]
  },
  {
   "cell_type": "markdown",
   "metadata": {},
   "source": [
    "You can reconstruct the nested structure using the `.nest()` method"
   ]
  },
  {
   "cell_type": "code",
   "execution_count": 10,
   "metadata": {
    "collapsed": false
   },
   "outputs": [
    {
     "data": {
      "text/plain": [
       "[{'array': [1, 2, 3, 4],\n",
       "  'c_t_curve': array([[  4.00000000e+00,   5.00000000e+00,   6.00000000e+00,\n",
       "            7.00000000e+00,   8.00000000e+00,   9.00000000e+00,\n",
       "            1.00000000e+01,   1.10000000e+01,   1.20000000e+01,\n",
       "            1.30000000e+01,   1.40000000e+01,   1.50000000e+01,\n",
       "            1.60000000e+01,   1.70000000e+01,   1.80000000e+01,\n",
       "            1.90000000e+01,   2.00000000e+01,   2.10000000e+01,\n",
       "            2.20000000e+01,   2.30000000e+01,   2.40000000e+01],\n",
       "         [  6.40000000e+01,   1.25000000e+02,   2.16000000e+02,\n",
       "            3.43000000e+02,   5.12000000e+02,   7.29000000e+02,\n",
       "            1.00000000e+03,   1.33100000e+03,   1.72800000e+03,\n",
       "            2.19700000e+03,   2.74400000e+03,   3.37500000e+03,\n",
       "            4.09600000e+03,   4.91300000e+03,   5.83200000e+03,\n",
       "            6.85900000e+03,   8.00000000e+03,   9.26100000e+03,\n",
       "            1.06480000e+04,   1.21670000e+04,   1.38240000e+04]]),\n",
       "  'hub_height': 80.0,\n",
       "  'name': 'wt1',\n",
       "  'position': {'x': 6400, 'y': 23232},\n",
       "  'power': 2000.0,\n",
       "  'rotor_diameter': 80.0},\n",
       " {'array': [1, 2, 3, 4],\n",
       "  'c_t_curve': array([[  4.00000000e+00,   5.00000000e+00,   6.00000000e+00,\n",
       "            7.00000000e+00,   8.00000000e+00,   9.00000000e+00,\n",
       "            1.00000000e+01,   1.10000000e+01,   1.20000000e+01,\n",
       "            1.30000000e+01,   1.40000000e+01,   1.50000000e+01,\n",
       "            1.60000000e+01,   1.70000000e+01,   1.80000000e+01,\n",
       "            1.90000000e+01,   2.00000000e+01,   2.10000000e+01,\n",
       "            2.20000000e+01,   2.30000000e+01,   2.40000000e+01],\n",
       "         [  6.40000000e+01,   1.25000000e+02,   2.16000000e+02,\n",
       "            3.43000000e+02,   5.12000000e+02,   7.29000000e+02,\n",
       "            1.00000000e+03,   1.33100000e+03,   1.72800000e+03,\n",
       "            2.19700000e+03,   2.74400000e+03,   3.37500000e+03,\n",
       "            4.09600000e+03,   4.91300000e+03,   5.83200000e+03,\n",
       "            6.85900000e+03,   8.00000000e+03,   9.26100000e+03,\n",
       "            1.06480000e+04,   1.21670000e+04,   1.38240000e+04]]),\n",
       "  'hub_height': 70.0,\n",
       "  'name': 'wt2',\n",
       "  'position': {'another': {'layer': 12}, 'x': 6400, 'y': 23332},\n",
       "  'power': 2000.0,\n",
       "  'rotor_diameter': 80.0}]"
      ]
     },
     "execution_count": 10,
     "metadata": {},
     "output_type": "execute_result"
    }
   ],
   "source": [
    "ly = wf.layout.nest()\n",
    "ly"
   ]
  },
  {
   "cell_type": "code",
   "execution_count": 11,
   "metadata": {
    "collapsed": false
   },
   "outputs": [
    {
     "data": {
      "text/plain": [
       "80.0"
      ]
     },
     "execution_count": 11,
     "metadata": {},
     "output_type": "execute_result"
    }
   ],
   "source": [
    "ly[0]['hub_height']"
   ]
  },
  {
   "cell_type": "markdown",
   "metadata": {},
   "source": [
    "You can resolve addresses with wildecards. This should be useful to connect things together."
   ]
  },
  {
   "cell_type": "code",
   "execution_count": 12,
   "metadata": {
    "collapsed": false
   },
   "outputs": [
    {
     "name": "stdout",
     "output_type": "stream",
     "text": [
      "layout:wt1:hub_height = 80.0\n",
      "layout:wt2:hub_height = 70.0\n"
     ]
    }
   ],
   "source": [
    "for k in wf.resolves('layout:*:hub_height'):\n",
    "    print(k.address, '=', k.value)"
   ]
  },
  {
   "cell_type": "markdown",
   "metadata": {},
   "source": [
    "You can set a new value, and this will change the flatten dict under the hood"
   ]
  },
  {
   "cell_type": "code",
   "execution_count": 13,
   "metadata": {
    "collapsed": false
   },
   "outputs": [
    {
     "name": "stdout",
     "output_type": "stream",
     "text": [
      "90.0 90.0\n"
     ]
    }
   ],
   "source": [
    "new_value = 90.0\n",
    "wf.layout.wt1.hub_height.value = new_value\n",
    "# Check the the flat_dict at the root has bee updated\n",
    "assert wf._flat_dict['layout:wt1:hub_height'] == new_value\n",
    "print(wf.layout.wt1.hub_height, \n",
    "      wf._flat_dict['layout:wt1:hub_height'])"
   ]
  },
  {
   "cell_type": "code",
   "execution_count": 14,
   "metadata": {
    "collapsed": false
   },
   "outputs": [],
   "source": [
    "for k in wf.resolves('*:*:hub_height'):\n",
    "    print(k.address, '=', k.value)"
   ]
  },
  {
   "cell_type": "markdown",
   "metadata": {},
   "source": [
    "You can even directly assign the value to the FUSEDobj, it will figure out how to propagate the values in the root flatten dictionary"
   ]
  },
  {
   "cell_type": "code",
   "execution_count": 15,
   "metadata": {
    "collapsed": false
   },
   "outputs": [
    {
     "name": "stdout",
     "output_type": "stream",
     "text": [
      "110.0 110.0\n"
     ]
    }
   ],
   "source": [
    "new_value = 110.0\n",
    "wf.layout.wt1.hub_height = new_value\n",
    "# Check the the flat_dict at the root has bee updated\n",
    "assert wf._flat_dict['layout:wt1:hub_height'] == new_value\n",
    "print(wf.layout.wt1.hub_height, \n",
    "      wf._flat_dict['layout:wt1:hub_height'])"
   ]
  },
  {
   "cell_type": "markdown",
   "metadata": {},
   "source": [
    "Even nested dictionaries!"
   ]
  },
  {
   "cell_type": "code",
   "execution_count": 16,
   "metadata": {
    "collapsed": false
   },
   "outputs": [],
   "source": [
    "wf.layout.wt1 = {\n",
    "  \"hub_height\": 85.0,\n",
    "  \"power\": 2200.0,\n",
    "  \"rotor_diameter\": 100.0,\n",
    "  \"position\": {\n",
    "    \"x\": 6400,\n",
    "    \"y\": 23222,\n",
    "  },\n",
    "  \"name\": \"wt1\"\n",
    "}"
   ]
  },
  {
   "cell_type": "code",
   "execution_count": 17,
   "metadata": {
    "collapsed": false,
    "scrolled": true
   },
   "outputs": [
    {
     "name": "stdout",
     "output_type": "stream",
     "text": [
      "layout:wt2:c_t_curve = [[  4.00000000e+00   5.00000000e+00   6.00000000e+00   7.00000000e+00\n",
      "    8.00000000e+00   9.00000000e+00   1.00000000e+01   1.10000000e+01\n",
      "    1.20000000e+01   1.30000000e+01   1.40000000e+01   1.50000000e+01\n",
      "    1.60000000e+01   1.70000000e+01   1.80000000e+01   1.90000000e+01\n",
      "    2.00000000e+01   2.10000000e+01   2.20000000e+01   2.30000000e+01\n",
      "    2.40000000e+01]\n",
      " [  6.40000000e+01   1.25000000e+02   2.16000000e+02   3.43000000e+02\n",
      "    5.12000000e+02   7.29000000e+02   1.00000000e+03   1.33100000e+03\n",
      "    1.72800000e+03   2.19700000e+03   2.74400000e+03   3.37500000e+03\n",
      "    4.09600000e+03   4.91300000e+03   5.83200000e+03   6.85900000e+03\n",
      "    8.00000000e+03   9.26100000e+03   1.06480000e+04   1.21670000e+04\n",
      "    1.38240000e+04]]\n",
      "layout:wt2:hub_height = 70.0\n",
      "layout:wt2:position:y = 23332\n",
      "layout:wt2:position:another:layer = 12\n",
      "layout:wt2:position:x = 6400\n",
      "layout:wt2:array = [1, 2, 3, 4]\n",
      "layout:wt2:rotor_diameter = 80.0\n",
      "layout:wt2:power = 2000.0\n",
      "layout:wt2:name = wt2\n"
     ]
    }
   ],
   "source": [
    "for k in wf.resolves('layout:wt2:*'):\n",
    "    print(k.address,'=', k)"
   ]
  },
  {
   "cell_type": "code",
   "execution_count": 18,
   "metadata": {
    "collapsed": false
   },
   "outputs": [
    {
     "data": {
      "text/plain": [
       "[85.0, 70.0]"
      ]
     },
     "execution_count": 18,
     "metadata": {},
     "output_type": "execute_result"
    }
   ],
   "source": [
    "list(wf.layout.resolves('*:hub_height'))"
   ]
  },
  {
   "cell_type": "code",
   "execution_count": 19,
   "metadata": {
    "collapsed": false,
    "scrolled": true
   },
   "outputs": [
    {
     "data": {
      "text/plain": [
       "{'layout:wt1:array': [1, 2, 3, 4],\n",
       " 'layout:wt1:c_t_curve': array([[  4.00000000e+00,   5.00000000e+00,   6.00000000e+00,\n",
       "           7.00000000e+00,   8.00000000e+00,   9.00000000e+00,\n",
       "           1.00000000e+01,   1.10000000e+01,   1.20000000e+01,\n",
       "           1.30000000e+01,   1.40000000e+01,   1.50000000e+01,\n",
       "           1.60000000e+01,   1.70000000e+01,   1.80000000e+01,\n",
       "           1.90000000e+01,   2.00000000e+01,   2.10000000e+01,\n",
       "           2.20000000e+01,   2.30000000e+01,   2.40000000e+01],\n",
       "        [  6.40000000e+01,   1.25000000e+02,   2.16000000e+02,\n",
       "           3.43000000e+02,   5.12000000e+02,   7.29000000e+02,\n",
       "           1.00000000e+03,   1.33100000e+03,   1.72800000e+03,\n",
       "           2.19700000e+03,   2.74400000e+03,   3.37500000e+03,\n",
       "           4.09600000e+03,   4.91300000e+03,   5.83200000e+03,\n",
       "           6.85900000e+03,   8.00000000e+03,   9.26100000e+03,\n",
       "           1.06480000e+04,   1.21670000e+04,   1.38240000e+04]]),\n",
       " 'layout:wt1:hub_height': 85.0,\n",
       " 'layout:wt1:name': 'wt1',\n",
       " 'layout:wt1:position:x': 6400,\n",
       " 'layout:wt1:position:y': 23222,\n",
       " 'layout:wt1:power': 2200.0,\n",
       " 'layout:wt1:rotor_diameter': 100.0,\n",
       " 'layout:wt2:array': [1, 2, 3, 4],\n",
       " 'layout:wt2:c_t_curve': array([[  4.00000000e+00,   5.00000000e+00,   6.00000000e+00,\n",
       "           7.00000000e+00,   8.00000000e+00,   9.00000000e+00,\n",
       "           1.00000000e+01,   1.10000000e+01,   1.20000000e+01,\n",
       "           1.30000000e+01,   1.40000000e+01,   1.50000000e+01,\n",
       "           1.60000000e+01,   1.70000000e+01,   1.80000000e+01,\n",
       "           1.90000000e+01,   2.00000000e+01,   2.10000000e+01,\n",
       "           2.20000000e+01,   2.30000000e+01,   2.40000000e+01],\n",
       "        [  6.40000000e+01,   1.25000000e+02,   2.16000000e+02,\n",
       "           3.43000000e+02,   5.12000000e+02,   7.29000000e+02,\n",
       "           1.00000000e+03,   1.33100000e+03,   1.72800000e+03,\n",
       "           2.19700000e+03,   2.74400000e+03,   3.37500000e+03,\n",
       "           4.09600000e+03,   4.91300000e+03,   5.83200000e+03,\n",
       "           6.85900000e+03,   8.00000000e+03,   9.26100000e+03,\n",
       "           1.06480000e+04,   1.21670000e+04,   1.38240000e+04]]),\n",
       " 'layout:wt2:hub_height': 70.0,\n",
       " 'layout:wt2:name': 'wt2',\n",
       " 'layout:wt2:position:another:layer': 12,\n",
       " 'layout:wt2:position:x': 6400,\n",
       " 'layout:wt2:position:y': 23332,\n",
       " 'layout:wt2:power': 2000.0,\n",
       " 'layout:wt2:rotor_diameter': 80.0}"
      ]
     },
     "execution_count": 19,
     "metadata": {},
     "output_type": "execute_result"
    }
   ],
   "source": [
    "wf._flat_dict"
   ]
  },
  {
   "cell_type": "code",
   "execution_count": 20,
   "metadata": {
    "collapsed": false
   },
   "outputs": [
    {
     "data": {
      "text/plain": [
       "[1, 2, 3, 4]"
      ]
     },
     "execution_count": 20,
     "metadata": {},
     "output_type": "execute_result"
    }
   ],
   "source": [
    "wf.layout.wt1.array.value"
   ]
  },
  {
   "cell_type": "code",
   "execution_count": 21,
   "metadata": {
    "collapsed": false
   },
   "outputs": [
    {
     "data": {
      "text/plain": [
       "[1, 2, 3, 4]"
      ]
     },
     "execution_count": 21,
     "metadata": {},
     "output_type": "execute_result"
    }
   ],
   "source": [
    "wf.layout.wt1.array"
   ]
  },
  {
   "cell_type": "code",
   "execution_count": 22,
   "metadata": {
    "collapsed": false
   },
   "outputs": [
    {
     "data": {
      "text/plain": [
       "77.5"
      ]
     },
     "execution_count": 22,
     "metadata": {},
     "output_type": "execute_result"
    }
   ],
   "source": [
    "(wf.layout.wt1.hub_height + wf.layout.wt2.hub_height)/2."
   ]
  },
  {
   "cell_type": "code",
   "execution_count": 23,
   "metadata": {
    "collapsed": false
   },
   "outputs": [
    {
     "data": {
      "text/plain": [
       "42.5"
      ]
     },
     "execution_count": 23,
     "metadata": {},
     "output_type": "execute_result"
    }
   ],
   "source": [
    "wf.layout.wt1.hub_height / 2.0"
   ]
  },
  {
   "cell_type": "code",
   "execution_count": 24,
   "metadata": {
    "collapsed": false
   },
   "outputs": [
    {
     "data": {
      "text/plain": [
       "False"
      ]
     },
     "execution_count": 24,
     "metadata": {},
     "output_type": "execute_result"
    }
   ],
   "source": [
    "wf.layout.wt1.hub_height == wf.layout.wt2.hub_height"
   ]
  },
  {
   "cell_type": "code",
   "execution_count": 25,
   "metadata": {
    "collapsed": false
   },
   "outputs": [
    {
     "data": {
      "text/plain": [
       "True"
      ]
     },
     "execution_count": 25,
     "metadata": {},
     "output_type": "execute_result"
    }
   ],
   "source": [
    "wf.layout.wt1.hub_height == wf.layout.wt2.hub_height + 15"
   ]
  },
  {
   "cell_type": "code",
   "execution_count": 26,
   "metadata": {
    "collapsed": false
   },
   "outputs": [
    {
     "data": {
      "text/plain": [
       "False"
      ]
     },
     "execution_count": 26,
     "metadata": {},
     "output_type": "execute_result"
    }
   ],
   "source": [
    "wf.layout.wt1.hub_height <= wf.layout.wt2.hub_height"
   ]
  },
  {
   "cell_type": "code",
   "execution_count": 27,
   "metadata": {
    "collapsed": false
   },
   "outputs": [
    {
     "data": {
      "text/plain": [
       "True"
      ]
     },
     "execution_count": 27,
     "metadata": {},
     "output_type": "execute_result"
    }
   ],
   "source": [
    "wf.layout.wt1.hub_height >= wf.layout.wt2.hub_height"
   ]
  },
  {
   "cell_type": "code",
   "execution_count": 28,
   "metadata": {
    "collapsed": false
   },
   "outputs": [
    {
     "data": {
      "text/plain": [
       "1.2142857142857142"
      ]
     },
     "execution_count": 28,
     "metadata": {},
     "output_type": "execute_result"
    }
   ],
   "source": [
    "wf.layout.wt1.hub_height / wf.layout.wt2.hub_height"
   ]
  },
  {
   "cell_type": "code",
   "execution_count": 29,
   "metadata": {
    "collapsed": false
   },
   "outputs": [
    {
     "data": {
      "text/plain": [
       "array([[  1.60000000e+01,   2.50000000e+01,   3.60000000e+01,\n",
       "          4.90000000e+01,   6.40000000e+01,   8.10000000e+01,\n",
       "          1.00000000e+02,   1.21000000e+02,   1.44000000e+02,\n",
       "          1.69000000e+02,   1.96000000e+02,   2.25000000e+02,\n",
       "          2.56000000e+02,   2.89000000e+02,   3.24000000e+02,\n",
       "          3.61000000e+02,   4.00000000e+02,   4.41000000e+02,\n",
       "          4.84000000e+02,   5.29000000e+02,   5.76000000e+02],\n",
       "       [  4.09600000e+03,   1.56250000e+04,   4.66560000e+04,\n",
       "          1.17649000e+05,   2.62144000e+05,   5.31441000e+05,\n",
       "          1.00000000e+06,   1.77156100e+06,   2.98598400e+06,\n",
       "          4.82680900e+06,   7.52953600e+06,   1.13906250e+07,\n",
       "          1.67772160e+07,   2.41375690e+07,   3.40122240e+07,\n",
       "          4.70458810e+07,   6.40000000e+07,   8.57661210e+07,\n",
       "          1.13379904e+08,   1.48035889e+08,   1.91102976e+08]])"
      ]
     },
     "execution_count": 29,
     "metadata": {},
     "output_type": "execute_result"
    }
   ],
   "source": [
    "wf.layout.wt1.c_t_curve**2."
   ]
  },
  {
   "cell_type": "markdown",
   "metadata": {},
   "source": [
    "slicing also works"
   ]
  },
  {
   "cell_type": "code",
   "execution_count": 30,
   "metadata": {
    "collapsed": false
   },
   "outputs": [
    {
     "data": {
      "text/plain": [
       "array([  4.,  64.])"
      ]
     },
     "execution_count": 30,
     "metadata": {},
     "output_type": "execute_result"
    }
   ],
   "source": [
    "wf.layout.wt1.c_t_curve[:,0]"
   ]
  },
  {
   "cell_type": "code",
   "execution_count": 31,
   "metadata": {
    "collapsed": true
   },
   "outputs": [],
   "source": [
    "wf.layout.wt1.c_t_curve[0,0] = 5.0"
   ]
  },
  {
   "cell_type": "code",
   "execution_count": 32,
   "metadata": {
    "collapsed": false
   },
   "outputs": [
    {
     "data": {
      "text/plain": [
       "array([  5.,  64.])"
      ]
     },
     "execution_count": 32,
     "metadata": {},
     "output_type": "execute_result"
    }
   ],
   "source": [
    "wf.layout.wt1.c_t_curve[:,0]"
   ]
  },
  {
   "cell_type": "code",
   "execution_count": 33,
   "metadata": {
    "collapsed": false
   },
   "outputs": [
    {
     "data": {
      "text/plain": [
       "85"
      ]
     },
     "execution_count": 33,
     "metadata": {},
     "output_type": "execute_result"
    }
   ],
   "source": [
    "round(wf.layout.wt1.hub_height)"
   ]
  },
  {
   "cell_type": "code",
   "execution_count": null,
   "metadata": {
    "collapsed": true
   },
   "outputs": [],
   "source": []
  }
 ],
 "metadata": {
  "kernelspec": {
   "display_name": "Python 3",
   "language": "python",
   "name": "python3"
  },
  "language_info": {
   "codemirror_mode": {
    "name": "ipython",
    "version": 3
   },
   "file_extension": ".py",
   "mimetype": "text/x-python",
   "name": "python",
   "nbconvert_exporter": "python",
   "pygments_lexer": "ipython3",
   "version": "3.5.1"
  }
 },
 "nbformat": 4,
 "nbformat_minor": 0
}
