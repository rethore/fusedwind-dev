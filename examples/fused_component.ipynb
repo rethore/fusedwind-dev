{
 "cells": [
  {
   "cell_type": "code",
   "execution_count": 1,
   "metadata": {
    "collapsed": false
   },
   "outputs": [],
   "source": [
    "from openmdao.api import IndepVarComp, Component, Problem, Group\n",
    "\n",
    "import json\n",
    "from fusedwind.core.FUSEDobj import FUSEDobj, flatten\n",
    "from fusedwind.core.FUSEDComponent import FUSEDWrapper, FUSEDComponent\n",
    "import numpy as np\n",
    "from functools import reduce"
   ]
  },
  {
   "cell_type": "code",
   "execution_count": 2,
   "metadata": {
    "collapsed": false
   },
   "outputs": [
    {
     "data": {
      "text/plain": [
       "{1, 2, 3}"
      ]
     },
     "execution_count": 2,
     "metadata": {},
     "output_type": "execute_result"
    }
   ],
   "source": [
    "{1,2,3}.union({1,3})"
   ]
  },
  {
   "cell_type": "markdown",
   "metadata": {},
   "source": [
    "#### You can define the component as a class"
   ]
  },
  {
   "cell_type": "code",
   "execution_count": 3,
   "metadata": {
    "collapsed": false
   },
   "outputs": [],
   "source": [
    "class wake_model(FUSEDComponent):\n",
    "    def __init__(self, wt1, wt2, wind_speed, wind_direction):\n",
    "        \"\"\"        \n",
    "        Parameters\n",
    "        ----------\n",
    "        wt1: FUSEDobj\n",
    "            turbine 1\n",
    "        wt2: FUSEDobj\n",
    "            turbine 2 in the wake of turbine 1\n",
    "        \"\"\"\n",
    "        super(wake_model, self).__init__()\n",
    "        self.wt1 = wt1\n",
    "        self.wt2 = wt2\n",
    "        self.ws = wind_speed\n",
    "        self.wd = wind_direction\n",
    "        self.D1 = wt1.rotor_diameter\n",
    "        self.D2 = wt2.rotor_diameter\n",
    "        \n",
    "        # run _execute and automatically figure out what are the params and\n",
    "        # unknowns of the Component. \n",
    "        # Note: Obviously, don't do that is `_execute()` takes ages!\n",
    "        self.auto_configure() \n",
    "        \n",
    "    def _execute(self):\n",
    "        self.wt2.power = self.ws**3.0 * (1.0 - self.wt1.c_t)\n",
    "        self.wt2.c_p = self.wt2.power/(np.pi * (self.D1/2.0)**2.0 * 1.225 * self.wd**3.0)\n",
    "        self.D2 = self.D1 / 2.0"
   ]
  },
  {
   "cell_type": "markdown",
   "metadata": {},
   "source": [
    "#### Or defined as a pure python function"
   ]
  },
  {
   "cell_type": "code",
   "execution_count": 24,
   "metadata": {
    "collapsed": false
   },
   "outputs": [],
   "source": [
    "def wake_func(ws, wd, wt1, wt2):\n",
    "        wt2.power = ws**3.0 * (1.0 - wt1.c_t)\n",
    "        wt2.c_p = wt2.power/(np.pi * (wt1.rotor_diameter/2.0)**2.0 * 1.225 * wd**3.0)\n",
    "        wt2.D2 = wt1.rotor_diameter / 2.0\n",
    "        return wt2"
   ]
  },
  {
   "cell_type": "code",
   "execution_count": 25,
   "metadata": {
    "collapsed": false
   },
   "outputs": [
    {
     "name": "stdout",
     "output_type": "stream",
     "text": [
      "edge case wind_speed 8.0\n",
      "edge case wind_direction 210.0\n"
     ]
    }
   ],
   "source": [
    "site = FUSEDobj({'layout':[\n",
    "    {\n",
    "        'name': 'wt1',\n",
    "        'power': 2000.0,\n",
    "        'c_t': 0.8,\n",
    "        'c_p': 0.5,\n",
    "        'rotor_diameter': 80.0,\n",
    "    },\n",
    "   {\n",
    "        'name': 'wt2',\n",
    "        'power': 2000.0,\n",
    "        'c_t': 0.8,\n",
    "        'c_p': 0.5,                \n",
    "        'rotor_diameter': 80.0,\n",
    "    },\n",
    "    {\n",
    "        'name': 'wt3',\n",
    "        'power': 2000.0,\n",
    "        'c_t': 0.8,\n",
    "        'c_p': 0.5,                \n",
    "        'rotor_diameter': 80.0,\n",
    "    }\n",
    "        ]})\n",
    "\n",
    "inflow = FUSEDobj({\n",
    "    'wind_speed':8.0,\n",
    "    'wind_direction': 270.0\n",
    "    })\n",
    "\n",
    "wind_speed = FUSEDobj(8.0, 'wind_speed')\n",
    "wind_direction = FUSEDobj(210.0, 'wind_direction')\n",
    "#wind_speed = FUSEDobj(8.0) #TODO: fix the missing name bug"
   ]
  },
  {
   "cell_type": "code",
   "execution_count": 26,
   "metadata": {
    "collapsed": false
   },
   "outputs": [
    {
     "data": {
      "text/plain": [
       "8.0"
      ]
     },
     "execution_count": 26,
     "metadata": {},
     "output_type": "execute_result"
    }
   ],
   "source": [
    "wind_speed"
   ]
  },
  {
   "cell_type": "code",
   "execution_count": 27,
   "metadata": {
    "collapsed": false,
    "scrolled": true
   },
   "outputs": [
    {
     "data": {
      "text/plain": [
       "{\n",
       "  \"layout\": [\n",
       "    {\n",
       "      \"rotor_diameter\": 80.0,\n",
       "      \"power\": 2000.0,\n",
       "      \"c_t\": 0.8,\n",
       "      \"name\": \"wt1\",\n",
       "      \"c_p\": 0.5\n",
       "    },\n",
       "    {\n",
       "      \"rotor_diameter\": 80.0,\n",
       "      \"power\": 2000.0,\n",
       "      \"c_t\": 0.8,\n",
       "      \"name\": \"wt2\",\n",
       "      \"c_p\": 0.5\n",
       "    },\n",
       "    {\n",
       "      \"rotor_diameter\": 80.0,\n",
       "      \"power\": 2000.0,\n",
       "      \"c_t\": 0.8,\n",
       "      \"name\": \"wt3\",\n",
       "      \"c_p\": 0.5\n",
       "    }\n",
       "  ]\n",
       "}"
      ]
     },
     "execution_count": 27,
     "metadata": {},
     "output_type": "execute_result"
    }
   ],
   "source": [
    "site"
   ]
  },
  {
   "cell_type": "code",
   "execution_count": 28,
   "metadata": {
    "collapsed": false,
    "scrolled": false
   },
   "outputs": [
    {
     "name": "stdout",
     "output_type": "stream",
     "text": [
      "input: wind_speed 8.0\n",
      "input: layout:wt1:rotor_diameter 80.0\n",
      "input: wind_direction 270.0\n",
      "input: layout:wt1:c_t 0.8\n",
      "output: layout:wt2:rotor_diameter 40.0\n",
      "output: layout:wt2:c_p 8.448949612900222e-10\n",
      "output: layout:wt2:power 102.39999999999998\n"
     ]
    }
   ],
   "source": [
    "wm = wake_model(site.layout.wt1, site.layout.wt2, wind_speed, inflow.wind_direction)"
   ]
  },
  {
   "cell_type": "markdown",
   "metadata": {},
   "source": [
    "#### You can also use a pure function and wrap it by indicating which inputs and output objects are used"
   ]
  },
  {
   "cell_type": "code",
   "execution_count": 30,
   "metadata": {
    "collapsed": false
   },
   "outputs": [
    {
     "name": "stdout",
     "output_type": "stream",
     "text": [
      "input: wind_speed 8.0\n",
      "input: layout:wt1:rotor_diameter 80.0\n",
      "input: wind_direction 210.0\n",
      "input: layout:wt1:c_t 0.8\n",
      "output: layout:wt2:c_p 1.795709699068298e-09\n",
      "output: layout:wt2:power 102.39999999999998\n"
     ]
    }
   ],
   "source": [
    "wm2 = FUSEDWrapper(wake_func, \n",
    " inputs=[\n",
    "    wind_speed,\n",
    "    wind_direction, \n",
    "    site.layout.wt1,\n",
    "    site.layout.wt2], \n",
    " outputs=[site.layout.wt2])"
   ]
  },
  {
   "cell_type": "markdown",
   "metadata": {},
   "source": [
    "#### You can create a project by using the address of the FUSEDobjects"
   ]
  },
  {
   "cell_type": "code",
   "execution_count": 31,
   "metadata": {
    "collapsed": false
   },
   "outputs": [
    {
     "data": {
      "text/plain": [
       "8.0"
      ]
     },
     "execution_count": 31,
     "metadata": {},
     "output_type": "execute_result"
    }
   ],
   "source": [
    "wind_speed"
   ]
  },
  {
   "cell_type": "code",
   "execution_count": 32,
   "metadata": {
    "collapsed": false
   },
   "outputs": [
    {
     "name": "stdout",
     "output_type": "stream",
     "text": [
      "##############################################\n",
      "Setup: Checking for potential issues...\n",
      "\n",
      "No recorders have been specified, so no data will be saved.\n",
      "\n",
      "The following parameters have no associated unknowns:\n",
      "layout:wt1:c_t\n",
      "layout:wt1:rotor_diameter\n",
      "\n",
      "Setup: Check complete.\n",
      "##############################################\n",
      "\n"
     ]
    }
   ],
   "source": [
    " top = Problem()\n",
    "\n",
    "root = top.root = Group()\n",
    "\n",
    "root.add('p1', wind_speed.IndepVarComp(), ['*'])\n",
    "# You can also do this:\n",
    "root.add('p2', IndepVarComp(wind_direction.address, 220.0), ['*'])\n",
    "\n",
    "root.add('wm', wm,['*'])\n",
    "top.setup()\n",
    "top.run()"
   ]
  },
  {
   "cell_type": "code",
   "execution_count": 33,
   "metadata": {
    "collapsed": false
   },
   "outputs": [
    {
     "name": "stdout",
     "output_type": "stream",
     "text": [
      "##############################################\n",
      "Setup: Checking for potential issues...\n",
      "\n",
      "No recorders have been specified, so no data will be saved.\n",
      "\n",
      "The following parameters have no associated unknowns:\n",
      "layout:wt1:c_t\n",
      "layout:wt1:rotor_diameter\n",
      "\n",
      "Setup: Check complete.\n",
      "##############################################\n",
      "\n"
     ]
    }
   ],
   "source": [
    " top = Problem()\n",
    "\n",
    "root = top.root = Group()\n",
    "\n",
    "root.add('p1', wind_speed.IndepVarComp(), ['*'])\n",
    "# You can also do this:\n",
    "root.add('p2', IndepVarComp(wind_direction.address, 220.0), ['*'])\n",
    "\n",
    "root.add('wm2', wm2,['*'])\n",
    "top.setup()\n",
    "top.run()"
   ]
  },
  {
   "cell_type": "markdown",
   "metadata": {},
   "source": [
    "#### The FUSEDobject used in the OpenMDAO have been updated under the hood (yay!)"
   ]
  },
  {
   "cell_type": "code",
   "execution_count": 34,
   "metadata": {
    "collapsed": false
   },
   "outputs": [
    {
     "data": {
      "text/plain": [
       "{\n",
       "  \"layout\": [\n",
       "    {\n",
       "      \"rotor_diameter\": 80.0,\n",
       "      \"power\": 2000.0,\n",
       "      \"c_t\": 0.8,\n",
       "      \"name\": \"wt1\",\n",
       "      \"c_p\": 0.5\n",
       "    },\n",
       "    {\n",
       "      \"rotor_diameter\": 40.0,\n",
       "      \"power\": 102.39999999999998,\n",
       "      \"c_t\": 0.8,\n",
       "      \"name\": \"wt2\",\n",
       "      \"c_p\": 1.561801983759533e-09\n",
       "    },\n",
       "    {\n",
       "      \"rotor_diameter\": 80.0,\n",
       "      \"power\": 2000.0,\n",
       "      \"c_t\": 0.8,\n",
       "      \"name\": \"wt3\",\n",
       "      \"c_p\": 0.5\n",
       "    }\n",
       "  ]\n",
       "}"
      ]
     },
     "execution_count": 34,
     "metadata": {},
     "output_type": "execute_result"
    }
   ],
   "source": [
    "site"
   ]
  },
  {
   "cell_type": "markdown",
   "metadata": {},
   "source": [
    "#### Some weird bug happens if you try to rerun again:"
   ]
  },
  {
   "cell_type": "code",
   "execution_count": 35,
   "metadata": {
    "collapsed": false
   },
   "outputs": [
    {
     "data": {
      "text/plain": [
       "'float64'"
      ]
     },
     "execution_count": 35,
     "metadata": {},
     "output_type": "execute_result"
    }
   ],
   "source": [
    "wind_speed.value.__class__.__name__"
   ]
  },
  {
   "cell_type": "code",
   "execution_count": 36,
   "metadata": {
    "collapsed": false
   },
   "outputs": [
    {
     "data": {
      "text/plain": [
       "'float64'"
      ]
     },
     "execution_count": 36,
     "metadata": {},
     "output_type": "execute_result"
    }
   ],
   "source": [
    "wind_direction.value.__class__.__name__"
   ]
  },
  {
   "cell_type": "code",
   "execution_count": 37,
   "metadata": {
    "collapsed": false
   },
   "outputs": [
    {
     "ename": "TypeError",
     "evalue": "Type <class 'numpy.float64'> of source 'p1.wind_speed' (wind_speed) must be the same as type <class 'float'> of target 'wm2.wind_speed' (wind_speed).",
     "output_type": "error",
     "traceback": [
      "\u001b[0;31m---------------------------------------------------------------------------\u001b[0m",
      "\u001b[0;31mTypeError\u001b[0m                                 Traceback (most recent call last)",
      "\u001b[0;32m<ipython-input-37-6e3cb2b4ea1f>\u001b[0m in \u001b[0;36m<module>\u001b[0;34m()\u001b[0m\n\u001b[1;32m      8\u001b[0m \u001b[0;34m\u001b[0m\u001b[0m\n\u001b[1;32m      9\u001b[0m \u001b[0mroot\u001b[0m\u001b[0;34m.\u001b[0m\u001b[0madd\u001b[0m\u001b[0;34m(\u001b[0m\u001b[0;34m'wm2'\u001b[0m\u001b[0;34m,\u001b[0m \u001b[0mwm2\u001b[0m\u001b[0;34m,\u001b[0m\u001b[0;34m[\u001b[0m\u001b[0;34m'*'\u001b[0m\u001b[0;34m]\u001b[0m\u001b[0;34m)\u001b[0m\u001b[0;34m\u001b[0m\u001b[0m\n\u001b[0;32m---> 10\u001b[0;31m \u001b[0mtop\u001b[0m\u001b[0;34m.\u001b[0m\u001b[0msetup\u001b[0m\u001b[0;34m(\u001b[0m\u001b[0;34m)\u001b[0m\u001b[0;34m\u001b[0m\u001b[0m\n\u001b[0m\u001b[1;32m     11\u001b[0m \u001b[0mtop\u001b[0m\u001b[0;34m.\u001b[0m\u001b[0mrun\u001b[0m\u001b[0;34m(\u001b[0m\u001b[0;34m)\u001b[0m\u001b[0;34m\u001b[0m\u001b[0m\n",
      "\u001b[0;32m/Users/pe/.virtualenvs/fusedwind35/lib/python3.5/site-packages/openmdao/core/problem.py\u001b[0m in \u001b[0;36msetup\u001b[0;34m(self, check, out_stream)\u001b[0m\n\u001b[1;32m    517\u001b[0m         self._setup_errors.extend(check_connections(connections, params_dict,\n\u001b[1;32m    518\u001b[0m                                                \u001b[0munknowns_dict\u001b[0m\u001b[0;34m,\u001b[0m\u001b[0;34m\u001b[0m\u001b[0m\n\u001b[0;32m--> 519\u001b[0;31m                                                self.root._sysdata.to_prom_name))\n\u001b[0m\u001b[1;32m    520\u001b[0m \u001b[0;34m\u001b[0m\u001b[0m\n\u001b[1;32m    521\u001b[0m         \u001b[0;31m# calculate unit conversions and store in param metadata\u001b[0m\u001b[0;34m\u001b[0m\u001b[0;34m\u001b[0m\u001b[0m\n",
      "\u001b[0;32m/Users/pe/.virtualenvs/fusedwind35/lib/python3.5/site-packages/openmdao/core/_checks.py\u001b[0m in \u001b[0;36mcheck_connections\u001b[0;34m(connections, params_dict, unknowns_dict, to_prom_name)\u001b[0m\n\u001b[1;32m     32\u001b[0m         \u001b[0mtmeta\u001b[0m \u001b[0;34m=\u001b[0m \u001b[0mparams_dict\u001b[0m\u001b[0;34m[\u001b[0m\u001b[0mtgt\u001b[0m\u001b[0;34m]\u001b[0m\u001b[0;34m\u001b[0m\u001b[0m\n\u001b[1;32m     33\u001b[0m         \u001b[0msmeta\u001b[0m \u001b[0;34m=\u001b[0m \u001b[0munknowns_dict\u001b[0m\u001b[0;34m[\u001b[0m\u001b[0msrc\u001b[0m\u001b[0;34m]\u001b[0m\u001b[0;34m\u001b[0m\u001b[0m\n\u001b[0;32m---> 34\u001b[0;31m         \u001b[0m_check_types_match\u001b[0m\u001b[0;34m(\u001b[0m\u001b[0msmeta\u001b[0m\u001b[0;34m,\u001b[0m \u001b[0mtmeta\u001b[0m\u001b[0;34m,\u001b[0m \u001b[0mto_prom_name\u001b[0m\u001b[0;34m)\u001b[0m\u001b[0;34m\u001b[0m\u001b[0m\n\u001b[0m\u001b[1;32m     35\u001b[0m         \u001b[0;32mif\u001b[0m \u001b[0;34m'pass_by_obj'\u001b[0m \u001b[0;32mnot\u001b[0m \u001b[0;32min\u001b[0m \u001b[0msmeta\u001b[0m \u001b[0;32mand\u001b[0m \u001b[0;34m'pass_by_obj'\u001b[0m \u001b[0;32mnot\u001b[0m \u001b[0;32min\u001b[0m \u001b[0msmeta\u001b[0m\u001b[0;34m:\u001b[0m\u001b[0;34m\u001b[0m\u001b[0m\n\u001b[1;32m     36\u001b[0m             \u001b[0merrors\u001b[0m\u001b[0;34m.\u001b[0m\u001b[0mextend\u001b[0m\u001b[0;34m(\u001b[0m\u001b[0m_check_shapes_match\u001b[0m\u001b[0;34m(\u001b[0m\u001b[0msmeta\u001b[0m\u001b[0;34m,\u001b[0m \u001b[0mtmeta\u001b[0m\u001b[0;34m,\u001b[0m \u001b[0mto_prom_name\u001b[0m\u001b[0;34m)\u001b[0m\u001b[0;34m)\u001b[0m\u001b[0;34m\u001b[0m\u001b[0m\n",
      "\u001b[0;32m/Users/pe/.virtualenvs/fusedwind35/lib/python3.5/site-packages/openmdao/core/_checks.py\u001b[0m in \u001b[0;36m_check_types_match\u001b[0;34m(src, tgt, to_prom_name)\u001b[0m\n\u001b[1;32m     95\u001b[0m                     \"target %s.\" %  (type(src['val']),\n\u001b[1;32m     96\u001b[0m                     \u001b[0m_both_names\u001b[0m\u001b[0;34m(\u001b[0m\u001b[0msrc\u001b[0m\u001b[0;34m,\u001b[0m \u001b[0mto_prom_name\u001b[0m\u001b[0;34m)\u001b[0m\u001b[0;34m,\u001b[0m\u001b[0;34m\u001b[0m\u001b[0m\n\u001b[0;32m---> 97\u001b[0;31m                     type(tval), _both_names(tgt, to_prom_name)))\n\u001b[0m\u001b[1;32m     98\u001b[0m \u001b[0;34m\u001b[0m\u001b[0m\n\u001b[1;32m     99\u001b[0m \u001b[0;32mdef\u001b[0m \u001b[0m_check_shapes_match\u001b[0m\u001b[0;34m(\u001b[0m\u001b[0msource\u001b[0m\u001b[0;34m,\u001b[0m \u001b[0mtarget\u001b[0m\u001b[0;34m,\u001b[0m \u001b[0mto_prom_name\u001b[0m\u001b[0;34m)\u001b[0m\u001b[0;34m:\u001b[0m\u001b[0;34m\u001b[0m\u001b[0m\n",
      "\u001b[0;31mTypeError\u001b[0m: Type <class 'numpy.float64'> of source 'p1.wind_speed' (wind_speed) must be the same as type <class 'float'> of target 'wm2.wind_speed' (wind_speed)."
     ]
    }
   ],
   "source": [
    "top = Problem()\n",
    "\n",
    "root = top.root = Group()\n",
    "\n",
    "root.add('p1', wind_speed.IndepVarComp(), ['*'])\n",
    "# You can also do this:\n",
    "root.add('p2', IndepVarComp(wind_direction.address, 220.0), ['*'])\n",
    "\n",
    "root.add('wm2', wm2,['*'])\n",
    "top.setup()\n",
    "top.run()"
   ]
  },
  {
   "cell_type": "code",
   "execution_count": 38,
   "metadata": {
    "collapsed": false
   },
   "outputs": [
    {
     "data": {
      "text/plain": [
       "float"
      ]
     },
     "execution_count": 38,
     "metadata": {},
     "output_type": "execute_result"
    }
   ],
   "source": [
    "top.root.wm2._params_dict['wm2.wind_speed']['val'].__class__"
   ]
  },
  {
   "cell_type": "code",
   "execution_count": null,
   "metadata": {
    "collapsed": true
   },
   "outputs": [],
   "source": []
  },
  {
   "cell_type": "code",
   "execution_count": null,
   "metadata": {
    "collapsed": true
   },
   "outputs": [],
   "source": []
  },
  {
   "cell_type": "code",
   "execution_count": null,
   "metadata": {
    "collapsed": true
   },
   "outputs": [],
   "source": []
  }
 ],
 "metadata": {
  "kernelspec": {
   "display_name": "Python 3",
   "language": "python",
   "name": "python3"
  },
  "language_info": {
   "codemirror_mode": {
    "name": "ipython",
    "version": 3
   },
   "file_extension": ".py",
   "mimetype": "text/x-python",
   "name": "python",
   "nbconvert_exporter": "python",
   "pygments_lexer": "ipython3",
   "version": "3.5.1"
  }
 },
 "nbformat": 4,
 "nbformat_minor": 0
}
